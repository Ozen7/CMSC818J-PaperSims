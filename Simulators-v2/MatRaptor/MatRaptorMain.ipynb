{
 "cells": [
  {
   "cell_type": "code",
   "execution_count": 10,
   "metadata": {},
   "outputs": [],
   "source": [
    "from MatRaptorClasses import PE\n",
    "from MatRaptorClasses import csr_to_c2sr\n",
    "from MatRaptorClasses import SpAL\n",
    "from MatRaptorClasses import SpBL\n",
    "from MatRaptorClasses import Memory\n",
    "import numpy as np\n",
    "from scipy.sparse import csr_matrix, coo_matrix\n",
    "import time\n",
    "from threading import Thread\n",
    "from threading import Event"
   ]
  },
  {
   "cell_type": "code",
   "execution_count": 11,
   "metadata": {},
   "outputs": [
    {
     "name": "stdout",
     "output_type": "stream",
     "text": [
      "[[0 0 0 ... 0 0 0]\n",
      " [0 0 0 ... 0 0 0]\n",
      " [0 0 0 ... 0 0 0]\n",
      " ...\n",
      " [0 0 0 ... 0 0 0]\n",
      " [0 0 0 ... 0 0 0]\n",
      " [0 0 0 ... 0 0 0]]\n",
      "[[0 0 0 ... 0 0 0]\n",
      " [0 0 0 ... 0 0 0]\n",
      " [0 0 0 ... 0 0 0]\n",
      " ...\n",
      " [0 0 0 ... 0 0 0]\n",
      " [0 0 0 ... 0 0 0]\n",
      " [0 0 0 ... 0 0 0]]\n"
     ]
    }
   ],
   "source": [
    "NUM_CHANNELS = 8\n",
    "PEAK_BANDWDITH_PER_CHANNEL = 16\n",
    "NUM_QUEUES = 10\n",
    "endFlag = True\n",
    "I = 1000\n",
    "K = 1000\n",
    "J = 1000\n",
    "NUM_INTS = 10000\n",
    "MODE = \"None\"\n",
    "\n",
    "gen = np.random.default_rng()\n",
    "data1 = gen.integers(1,10,NUM_INTS)\n",
    "row1 = gen.integers(0,I,NUM_INTS)\n",
    "col1 = gen.integers(0,K,NUM_INTS)\n",
    "\n",
    "data2 = gen.integers(1,10,NUM_INTS)\n",
    "row2 = gen.integers(0,K,NUM_INTS)\n",
    "col2 = gen.integers(0,J,NUM_INTS)\n",
    "i1 = csr_matrix(coo_matrix((data1, (row1, col1)), shape=(I, K)))\n",
    "i2 = csr_matrix(coo_matrix((data2, (row2, col2)), shape=(K, J)))\n",
    "\n",
    "inputA = csr_to_c2sr(i1.data,i1.indices,i1.indptr,NUM_CHANNELS)\n",
    "inputB = csr_to_c2sr(i2.data,i2.indices,i2.indptr,NUM_CHANNELS)\n",
    "    \n",
    "print(i1.toarray())\n",
    "print(i2.toarray())"
   ]
  },
  {
   "cell_type": "code",
   "execution_count": 12,
   "metadata": {},
   "outputs": [],
   "source": [
    "# Code going here: have each individual set of (SpAL, SpBL, PE) in a thread\n",
    "# remember that the events are used ONLY to wait for other PEs to stop\n",
    "# Best idea might be to create a very simple wrapper class for all three of them to increase clarity\n",
    "# We can basically have a wrapper class with an SpAL, SpBL, PE, as well as a \"running\" method that is used in the multithreading, and cycles\n",
    "# each part once every time its allowed!\n",
    "cycleCount = 0\n",
    "\n",
    "class Wrapper:\n",
    "    def __init__(self, SpAL, SpBL, PE) -> None:\n",
    "        self.SpAL = SpAL\n",
    "        self.SpBL = SpBL\n",
    "        self.PE = PE\n",
    "        self.endFlag = False\n",
    "    \n",
    "    \n",
    "    def running(self, event):\n",
    "        while not self.endFlag:\n",
    "            time.sleep(0.0001)  \n",
    "            if not event.is_set():\n",
    "                self.PE.cycle()\n",
    "                self.SpBL.cycle()\n",
    "                self.SpAL.cycle()\n",
    "                self.endFlag = self.PE.endFlag and self.SpAL.endFlag and self.SpBL.endFlag\n",
    "                event.set()\n",
    "        event.set()\n",
    "        \n",
    "WrapperArray = []\n",
    "WrapperEventArray = []\n",
    "\n",
    "memory = Memory(NUM_CHANNELS,PEAK_BANDWDITH_PER_CHANNEL)\n",
    "for x in range(NUM_CHANNELS):\n",
    "    A = SpAL(x, NUM_CHANNELS,MODE)\n",
    "    B = SpBL(MODE)\n",
    "    P = PE(10,x, MODE)\n",
    "    \n",
    "    A.setNext(B)\n",
    "    B.setNext(P)\n",
    "\n",
    "    A.setMemory(memory)\n",
    "    B.setMemory(memory)\n",
    "    \n",
    "    if MODE == \"CSR\":\n",
    "        A.loadMatrixA((i1.data,i1.indices,i1.indptr))\n",
    "        B.loadMatrixB((i2.data,i2.indices,i2.indptr))\n",
    "    else:\n",
    "        A.loadMatrixA(inputA)\n",
    "        B.loadMatrixB(inputB)\n",
    "    \n",
    "    W = Wrapper(A, B, P)\n",
    "    WrapperArray.append(W)\n",
    "    WrapperEventArray.append(Event())\n",
    "    Thread(target=W.running,args=[WrapperEventArray[-1]]).start()\n",
    "memory.cycle()\n",
    "cycleCount += 1 # one cycle when setting up so it works right (too lazy to code it better lol)"
   ]
  },
  {
   "cell_type": "code",
   "execution_count": 13,
   "metadata": {},
   "outputs": [
    {
     "name": "stdout",
     "output_type": "stream",
     "text": [
      "total Cycles 16741\n",
      "PE0:\n",
      "Wasted Cycles: 0.02 , Part I Waiting for Part II: 0.0 , Part II Waiting for Part I: 0.23\n",
      "SpAL Memory Use: 10056 , SpAL Memory Wasted Cycles (%): 0.2 SpBL Memory Use: 140704 , SpBL Memory Wasted Cycles(%): 0.0\n",
      "PE1:\n",
      "Wasted Cycles: 0.0 , Part I Waiting for Part II: 0.01 , Part II Waiting for Part I: 0.23\n",
      "SpAL Memory Use: 10024 , SpAL Memory Wasted Cycles (%): 0.22 SpBL Memory Use: 144024 , SpBL Memory Wasted Cycles(%): 0.0\n",
      "PE2:\n",
      "Wasted Cycles: 0.03 , Part I Waiting for Part II: 0.01 , Part II Waiting for Part I: 0.23\n",
      "SpAL Memory Use: 9984 , SpAL Memory Wasted Cycles (%): 0.19 SpBL Memory Use: 140472 , SpBL Memory Wasted Cycles(%): 0.0\n",
      "PE3:\n",
      "Wasted Cycles: 0.04 , Part I Waiting for Part II: 0.01 , Part II Waiting for Part I: 0.24\n",
      "SpAL Memory Use: 9632 , SpAL Memory Wasted Cycles (%): 0.21 SpBL Memory Use: 134536 , SpBL Memory Wasted Cycles(%): 0.0\n",
      "PE4:\n",
      "Wasted Cycles: 0.02 , Part I Waiting for Part II: 0.01 , Part II Waiting for Part I: 0.22\n",
      "SpAL Memory Use: 10112 , SpAL Memory Wasted Cycles (%): 0.19 SpBL Memory Use: 144656 , SpBL Memory Wasted Cycles(%): 0.0\n",
      "PE5:\n",
      "Wasted Cycles: 0.03 , Part I Waiting for Part II: 0.01 , Part II Waiting for Part I: 0.22\n",
      "SpAL Memory Use: 9920 , SpAL Memory Wasted Cycles (%): 0.2 SpBL Memory Use: 141648 , SpBL Memory Wasted Cycles(%): 0.0\n",
      "PE6:\n",
      "Wasted Cycles: 0.03 , Part I Waiting for Part II: 0.01 , Part II Waiting for Part I: 0.23\n",
      "SpAL Memory Use: 9864 , SpAL Memory Wasted Cycles (%): 0.2 SpBL Memory Use: 140944 , SpBL Memory Wasted Cycles(%): 0.0\n",
      "PE7:\n",
      "Wasted Cycles: 0.0 , Part I Waiting for Part II: 0.01 , Part II Waiting for Part I: 0.25\n",
      "SpAL Memory Use: 10056 , SpAL Memory Wasted Cycles (%): 0.28 SpBL Memory Use: 143312 , SpBL Memory Wasted Cycles(%): 0.0\n",
      "Average Bandwidth Utilization: 72.27429663699898, Bandwidth Utilization When Memory Is In Use: 86.48016582088485\n"
     ]
    }
   ],
   "source": [
    "endFlag = False\n",
    "cycleCount = 0\n",
    "while not endFlag:\n",
    "    endFlag = True # if any of the wrappers have a false EndFlag, this turns false (since we do boolean and with each of them)\n",
    "    cycleCount += 1\n",
    "    for x in range(NUM_CHANNELS):\n",
    "        WrapperEventArray[x].clear()\n",
    "    for x in range(NUM_CHANNELS):\n",
    "        if not WrapperArray[x].endFlag:\n",
    "            WrapperEventArray[x].wait()\n",
    "        else:\n",
    "            WrapperArray[x].PE.numWastedCycles += 1\n",
    "            # increment the wasted cycles for its PE, since the Wrapper isn't running\n",
    "        endFlag = endFlag and WrapperArray[x].endFlag # IF it goes through all the wrappers and they are all at EOF, then endFlag is True at the end of the cycle\n",
    "    memory.cycle()\n",
    "# CYCLES\n",
    "print(\"total Cycles\", cycleCount)\n",
    "\n",
    "# HARDWARE UTLIZATION, MEMORY USAGE\n",
    "for x in range(NUM_CHANNELS):\n",
    "    print(\"PE\" + str(x) + \":\")\n",
    "    print(\"Wasted Cycles: \" + str(round(WrapperArray[x].PE.numWastedCycles/cycleCount,2)) + \" , Part I Waiting for Part II: \" + str(round(WrapperArray[x].PE.partIWastedCycles/cycleCount,2)) + \" , Part II Waiting for Part I: \" + str(round(WrapperArray[x].PE.partIIWastedCycles/cycleCount,2)))\n",
    "    print(\"SpAL Memory Use: \" + str(WrapperArray[x].SpAL.MemoryUsage) + \" , SpAL Memory Wasted Cycles (%): \" + str(round(WrapperArray[x].SpAL.memoryWastedCycles/cycleCount,2)) + \" SpBL Memory Use: \" + str(WrapperArray[x].SpBL.MemoryUsage) + \" , SpBL Memory Wasted Cycles(%): \" + str(round(WrapperArray[x].SpBL.memoryWastedCycles/cycleCount,2)))\n",
    "\n",
    "#Memory Bandwidth Utilization\n",
    "print(\"Average Bandwidth Utilization: \" + str(memory.TotalMemoryPulled/cycleCount) + \", Bandwidth Utilization When Memory Is In Use: \" + str(memory.TotalMemoryPulled/memory.NumCyclesInUse))\n"
   ]
  },
  {
   "cell_type": "code",
   "execution_count": 14,
   "metadata": {},
   "outputs": [
    {
     "name": "stdout",
     "output_type": "stream",
     "text": [
      "[[ 0  0  0 ...  0  0  0]\n",
      " [ 0  0  0 ...  0  0  0]\n",
      " [ 0  0  0 ...  0  0  0]\n",
      " ...\n",
      " [ 0  0 56 ...  0  0  0]\n",
      " [ 0  0  0 ...  0  0  0]\n",
      " [ 0  0  0 ...  0  0  0]]\n",
      "[[ 0  0  0 ...  0  0  0]\n",
      " [ 0  0  0 ...  0  0  0]\n",
      " [ 0  0  0 ...  0  0  0]\n",
      " ...\n",
      " [ 0  0 56 ...  0  0  0]\n",
      " [ 0  0  0 ...  0  0  0]\n",
      " [ 0  0  0 ...  0  0  0]]\n",
      "[[ True  True  True ...  True  True  True]\n",
      " [ True  True  True ...  True  True  True]\n",
      " [ True  True  True ...  True  True  True]\n",
      " ...\n",
      " [ True  True  True ...  True  True  True]\n",
      " [ True  True  True ...  True  True  True]\n",
      " [ True  True  True ...  True  True  True]]\n",
      "True\n"
     ]
    }
   ],
   "source": [
    "\n",
    "r = []\n",
    "c = []\n",
    "v = []\n",
    "for wrapper in WrapperArray:\n",
    "    for o in wrapper.PE.outputBuffer:\n",
    "        v.append(o[0])\n",
    "        r.append(o[1])\n",
    "        c.append(o[2])\n",
    "\n",
    "est = coo_matrix((v,(r,c)),(I,K)).toarray()\n",
    "actual = np.dot(i1.toarray(),i2.toarray())\n",
    "print(est)\n",
    "print(actual)\n",
    "print(np.equal(actual,est))\n",
    "print(np.allclose(actual,est,0.0001,0.0001))"
   ]
  },
  {
   "cell_type": "markdown",
   "metadata": {},
   "source": [
    "Test handwritten example on PE"
   ]
  },
  {
   "cell_type": "code",
   "execution_count": 15,
   "metadata": {},
   "outputs": [],
   "source": [
    "#for wrapper in WrapperArray:\n",
    "#    print(wrapper.PE.outputBuffer)"
   ]
  },
  {
   "cell_type": "code",
   "execution_count": 16,
   "metadata": {},
   "outputs": [
    {
     "data": {
      "text/plain": [
       "'\\n\\ncomp = PE(3,1)\\ncomp.input(1,1,0,1,3)\\ncomp.input(1,1,0,2,3)\\ncomp.input(1,1,0,3,3)\\ncomp.input(1,1,0,4,3)\\n\\ncomp.input(1,1,1,1,1)\\ncomp.input(1,1,1,3,1)\\ncomp.input(1,1,1,2,2)\\ncomp.input(1,1,1,4,2)\\n\\ncomp.input(1,1,2,1,1)\\ncomp.input(1,1,2,3,1)\\n\\ncomp.input(1,1,4,1,1)\\ncomp.input(1,1,4,3,1)\\ncomp.input(1,1,4,2,2)\\ncomp.input(1,1,4,4,2)\\ncomp.input(1,1,4,1,3)\\ncomp.input(1,1,4,2,3)\\ncomp.input(1,1,4,3,3)\\ncomp.input(1,1,4,4,3)\\ncomp.input(1,1,4,1,4)\\ncomp.input(1,1,4,3,4)\\n\\ncomp.input(None,None,None,None,None)\\n\\n'"
      ]
     },
     "execution_count": 16,
     "metadata": {},
     "output_type": "execute_result"
    }
   ],
   "source": [
    "\"\"\"\n",
    "\n",
    "comp = PE(3,1)\n",
    "comp.input(1,1,0,1,3)\n",
    "comp.input(1,1,0,2,3)\n",
    "comp.input(1,1,0,3,3)\n",
    "comp.input(1,1,0,4,3)\n",
    "\n",
    "comp.input(1,1,1,1,1)\n",
    "comp.input(1,1,1,3,1)\n",
    "comp.input(1,1,1,2,2)\n",
    "comp.input(1,1,1,4,2)\n",
    "\n",
    "comp.input(1,1,2,1,1)\n",
    "comp.input(1,1,2,3,1)\n",
    "\n",
    "comp.input(1,1,4,1,1)\n",
    "comp.input(1,1,4,3,1)\n",
    "comp.input(1,1,4,2,2)\n",
    "comp.input(1,1,4,4,2)\n",
    "comp.input(1,1,4,1,3)\n",
    "comp.input(1,1,4,2,3)\n",
    "comp.input(1,1,4,3,3)\n",
    "comp.input(1,1,4,4,3)\n",
    "comp.input(1,1,4,1,4)\n",
    "comp.input(1,1,4,3,4)\n",
    "\n",
    "comp.input(None,None,None,None,None)\n",
    "\n",
    "\"\"\"\n"
   ]
  },
  {
   "cell_type": "code",
   "execution_count": 17,
   "metadata": {},
   "outputs": [],
   "source": [
    "#for x in range(0,32): #Should finish running in 31 cycles\n",
    "#    print(x)\n",
    "#    comp.cycle()\n",
    "#    print(str(comp))"
   ]
  },
  {
   "cell_type": "code",
   "execution_count": 18,
   "metadata": {},
   "outputs": [],
   "source": [
    "#print(comp.outputBuffer)"
   ]
  }
 ],
 "metadata": {
  "kernelspec": {
   "display_name": "Python 3",
   "language": "python",
   "name": "python3"
  },
  "language_info": {
   "codemirror_mode": {
    "name": "ipython",
    "version": 3
   },
   "file_extension": ".py",
   "mimetype": "text/x-python",
   "name": "python",
   "nbconvert_exporter": "python",
   "pygments_lexer": "ipython3",
   "version": "3.11.1"
  }
 },
 "nbformat": 4,
 "nbformat_minor": 2
}
