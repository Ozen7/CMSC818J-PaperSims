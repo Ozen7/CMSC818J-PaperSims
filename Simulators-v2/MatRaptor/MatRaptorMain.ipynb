{
 "cells": [
  {
   "cell_type": "code",
   "execution_count": null,
   "metadata": {},
   "outputs": [],
   "source": [
    "from MatRaptorClasses import PE\n",
    "from MatRaptorClasses import csr_to_c2sr\n",
    "from MatRaptorClasses import SpAL\n",
    "from MatRaptorClasses import SpBL\n",
    "import numpy as np\n",
    "from scipy.sparse import csr_matrix, coo_matrix\n",
    "import time\n",
    "from threading import Thread\n",
    "from threading import Event"
   ]
  },
  {
   "cell_type": "code",
   "execution_count": null,
   "metadata": {},
   "outputs": [],
   "source": [
    "NUM_CHANNELS = 5\n",
    "NUM_QUEUES = 10\n",
    "endFlag = True\n",
    "#dramIntersector = DRAMIntersector(True)\n",
    "#llbIntersector = LLBIntersector(True)\n",
    "#peArray = PEArray(12)\n",
    "#peIntersectorList = []\n",
    "#for x in range(0,12):\n",
    "#    peIntersectorList.append(PEIntersector(True, LLB_TILE_SIZE, PE_TILE_SIZE,x))\n",
    "#dramIntersector.setNext(llbIntersector)\n",
    "#llbIntersector.setNext(peArray)\n",
    "#peArray.setNext(peIntersectorList)\n",
    "\n",
    "\n",
    "gen = np.random.default_rng()\n",
    "data1 = gen.integers(1,100,1000)\n",
    "row1 = gen.integers(0,1000,1000)\n",
    "col1 = gen.integers(0,1000,1000)\n",
    "\n",
    "data2 = gen.integers(1,100,1000)\n",
    "row2 = gen.integers(0,1000,1000)\n",
    "col2 = gen.integers(0,1000,1000)\n",
    "i1 = csr_matrix(coo_matrix((data1, (row1, col1)), shape=(1000, 1000)).toarray())\n",
    "i2 = csr_matrix(coo_matrix((data2, (row2, col2)), shape=(1000, 1000)).toarray())\n",
    "\n",
    "inputA = csr_to_c2sr(i1.data,i1.indices,i1.indptr,NUM_CHANNELS)\n",
    "inputB = csr_to_c2sr(i2.data,i2.indices,i2.indptr,NUM_CHANNELS)\n",
    "    \n",
    "print(i1.toarray())\n",
    "print(i2.toarray())\n",
    "\n"
   ]
  },
  {
   "cell_type": "code",
   "execution_count": null,
   "metadata": {},
   "outputs": [],
   "source": [
    "# Code going here: have each individual set of (SpAL, SpBL, PE) in a thread\n",
    "# remember that the events are used ONLY to wait for other PEs to stop\n",
    "# Best idea might be to create a very simple wrapper class for all three of them to increase clarity\n",
    "# We can basically have a wrapper class with an SpAL, SpBL, PE, as well as a \"running\" method that is used in the multithreading, and cycles\n",
    "# each part once every time its allowed!\n",
    "\n",
    "class Wrapper:\n",
    "    def __init__(self, SpAL, SpBL, PE) -> None:\n",
    "        self.SpAL = SpAL\n",
    "        self.SpBL = SpBL\n",
    "        self.PE = PE\n",
    "        self.endFlag = False\n",
    "    \n",
    "    \n",
    "    def running(self, event):\n",
    "        while not self.endFlag:\n",
    "            time.sleep(0.0001)  \n",
    "            if not event.is_set():\n",
    "                self.PE.cycle()\n",
    "                self.SpBL.cycle()\n",
    "                self.SpAL.cycle()\n",
    "                self.endFlag = self.PE.endFlag and self.SpAL.endFlag and self.SpBL.endFlag\n",
    "                event.set()\n",
    "        event.set()\n",
    "        \n",
    "WrapperArray = []\n",
    "WrapperEventArray = []\n",
    "for x in range(NUM_CHANNELS):\n",
    "    A = SpAL(x, NUM_CHANNELS)\n",
    "    B = SpBL(x)\n",
    "    P = PE(10,x)\n",
    "    \n",
    "    A.setNext(B)\n",
    "    B.setNext(P)\n",
    "    \n",
    "    A.loadMatrixA(inputA)\n",
    "    B.loadMatrixB(inputB)\n",
    "    \n",
    "    W = Wrapper(A, B, P)\n",
    "    WrapperArray.append(W)\n",
    "    WrapperEventArray.append(Event())\n",
    "    Thread(target=W.running,args=[WrapperEventArray[-1]]).start()\n"
   ]
  },
  {
   "cell_type": "code",
   "execution_count": null,
   "metadata": {},
   "outputs": [],
   "source": [
    "endFlag = False\n",
    "cycleCount = 0\n",
    "while not endFlag:\n",
    "    endFlag = True # if any of the wrappers have a false EndFlag, this turns false (since we do boolean and with each of them)\n",
    "    cycleCount += 1\n",
    "    for x in range(NUM_CHANNELS):\n",
    "        WrapperEventArray[x].clear()\n",
    "    for x in range(NUM_CHANNELS):\n",
    "        if not WrapperArray[x].endFlag:\n",
    "            WrapperEventArray[x].wait()\n",
    "        endFlag = endFlag and WrapperArray[x].endFlag # IF it goes through all the wrappers and they are all at EOF, then endFlag is True at the end of the cycle\n",
    "     \n",
    "for x in range(NUM_CHANNELS):\n",
    "    print(\"PE\" + str(x) + \", Wasted Cycles: \" + str(WrapperArray[x].PE.numWastedCycles) + \" , Part I Wasted Cycles: \" + str(WrapperArray[x].PE.partIWastedCycles) + \" , Part II Wasted Cycles: \" + str(WrapperArray[x].PE.partIIWastedCycles))\n",
    "print(\"total Cycles\", cycleCount)"
   ]
  },
  {
   "cell_type": "code",
   "execution_count": null,
   "metadata": {},
   "outputs": [],
   "source": [
    "\n",
    "r = []\n",
    "c = []\n",
    "v = []\n",
    "for wrapper in WrapperArray:\n",
    "    for o in wrapper.PE.outputBuffer:\n",
    "        v.append(o[0])\n",
    "        r.append(o[1])\n",
    "        c.append(o[2])\n",
    "\n",
    "est = coo_matrix((v,(r,c)),(1000,1000)).toarray()\n",
    "actual = np.dot(i1.toarray(),i2.toarray())\n",
    "print(np.equal(actual, est))\n",
    "print(np.allclose(actual,est,0.0001,0.0001))\n",
    "\n"
   ]
  },
  {
   "cell_type": "markdown",
   "metadata": {},
   "source": [
    "Test handwritten example on PE"
   ]
  },
  {
   "cell_type": "code",
   "execution_count": null,
   "metadata": {},
   "outputs": [],
   "source": [
    "for wrapper in WrapperArray:\n",
    "    print(wrapper.PE.outputBuffer)"
   ]
  },
  {
   "cell_type": "code",
   "execution_count": null,
   "metadata": {},
   "outputs": [],
   "source": [
    "comp = PE(3,1)\n",
    "comp.input(1,1,0,1,3)\n",
    "comp.input(1,1,0,2,3)\n",
    "comp.input(1,1,0,3,3)\n",
    "comp.input(1,1,0,4,3)\n",
    "\n",
    "comp.input(1,1,1,1,1)\n",
    "comp.input(1,1,1,3,1)\n",
    "comp.input(1,1,1,2,2)\n",
    "comp.input(1,1,1,4,2)\n",
    "\n",
    "comp.input(1,1,2,1,1)\n",
    "comp.input(1,1,2,3,1)\n",
    "\n",
    "comp.input(1,1,4,1,1)\n",
    "comp.input(1,1,4,3,1)\n",
    "comp.input(1,1,4,2,2)\n",
    "comp.input(1,1,4,4,2)\n",
    "comp.input(1,1,4,1,3)\n",
    "comp.input(1,1,4,2,3)\n",
    "comp.input(1,1,4,3,3)\n",
    "comp.input(1,1,4,4,3)\n",
    "comp.input(1,1,4,1,4)\n",
    "comp.input(1,1,4,3,4)\n",
    "\n",
    "comp.input(None,None,None,None,None)\n"
   ]
  },
  {
   "cell_type": "code",
   "execution_count": null,
   "metadata": {},
   "outputs": [],
   "source": [
    "for x in range(0,32): #Should finish running in 31 cycles\n",
    "    print(x)\n",
    "    comp.cycle()\n",
    "    print(str(comp))"
   ]
  },
  {
   "cell_type": "code",
   "execution_count": null,
   "metadata": {},
   "outputs": [],
   "source": [
    "print(comp.outputBuffer)"
   ]
  }
 ],
 "metadata": {
  "kernelspec": {
   "display_name": "Python 3",
   "language": "python",
   "name": "python3"
  },
  "language_info": {
   "codemirror_mode": {
    "name": "ipython",
    "version": 3
   },
   "file_extension": ".py",
   "mimetype": "text/x-python",
   "name": "python",
   "nbconvert_exporter": "python",
   "pygments_lexer": "ipython3",
   "version": "3.11.1"
  }
 },
 "nbformat": 4,
 "nbformat_minor": 2
}
