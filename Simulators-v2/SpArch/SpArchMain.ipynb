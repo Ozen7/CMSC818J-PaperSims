{
 "cells": [
  {
   "cell_type": "code",
   "execution_count": 1,
   "metadata": {},
   "outputs": [],
   "source": [
    "import numpy as np\n",
    "from scipy.sparse import csr_matrix, coo_matrix\n",
    "import time\n",
    "from threading import Thread\n",
    "from threading import Event\n",
    "from SpArchClasses import MatrixAFetcher\n",
    "from SpArchClasses import DistanceListBuilder\n",
    "from SpArchClasses import MatrixBPrefetcher\n",
    "from SpArchClasses import MultiplierArray\n",
    "from SpArchClasses import MergeTree\n",
    "from SpArchClasses import Scheduler"
   ]
  },
  {
   "cell_type": "code",
   "execution_count": 2,
   "metadata": {},
   "outputs": [],
   "source": [
    "\n",
    "gen = np.random.default_rng()\n",
    "data1 = gen.integers(1,100,10000)\n",
    "row1 = gen.integers(0,100,10000)\n",
    "col1 = gen.integers(0,100,10000)\n",
    "\n",
    "data2 = gen.integers(1,100,10000)\n",
    "row2 = gen.integers(0,100,10000)\n",
    "col2 = gen.integers(0,100,10000)\n",
    "i1 = csr_matrix(coo_matrix((data1, (row1, col1)), shape=(100, 100)).toarray())\n",
    "i2 = csr_matrix(coo_matrix((data2, (row2, col2)), shape=(100, 100)).toarray())"
   ]
  },
  {
   "cell_type": "code",
   "execution_count": 3,
   "metadata": {},
   "outputs": [
    {
     "name": "stdout",
     "output_type": "stream",
     "text": [
      "[[  0   0  62 ...  99  69  85]\n",
      " [  0   0 107 ...   0  62  45]\n",
      " [  0   0 101 ...  48 110   0]\n",
      " ...\n",
      " [ 73   0   0 ...   0   0  38]\n",
      " [201   2   0 ...  77  71 115]\n",
      " [ 59  86   0 ...   0   0   0]]\n"
     ]
    }
   ],
   "source": [
    "print(i1.toarray())"
   ]
  },
  {
   "cell_type": "code",
   "execution_count": 4,
   "metadata": {},
   "outputs": [
    {
     "name": "stdout",
     "output_type": "stream",
     "text": [
      "[[ 92   0   0 ...   0   8   0]\n",
      " [ 96  64  40 ... 153   0   0]\n",
      " [  0   0   1 ...  83  58 137]\n",
      " ...\n",
      " [  0  93   0 ... 167   0 158]\n",
      " [  0  98  32 ...  87  47  18]\n",
      " [ 53  73   0 ...   0  87   0]]\n"
     ]
    }
   ],
   "source": [
    "print(i2.toarray())"
   ]
  },
  {
   "cell_type": "code",
   "execution_count": 5,
   "metadata": {},
   "outputs": [],
   "source": [
    "AL = MatrixAFetcher(i1)\n",
    "DL = DistanceListBuilder()\n",
    "MBP = MatrixBPrefetcher(i2)\n",
    "MPA = MultiplierArray()\n",
    "MT = MergeTree()\n",
    "S = Scheduler(AL,MT,DL,MBP)\n",
    "\n",
    "AL.setDLB(DL)\n",
    "\n",
    "DL.setMBP(MBP)\n",
    "DL.setMultiplier(MPA)\n",
    "\n",
    "MBP.setMultiplier(MPA)\n",
    "MBP.setDistanceListBuilder(DL)\n",
    "\n",
    "MPA.setMergeTree(MT)\n",
    "MPA.setScheduler(S)\n",
    "\n",
    "MT.setScheduler(S)"
   ]
  },
  {
   "cell_type": "code",
   "execution_count": 6,
   "metadata": {},
   "outputs": [
    {
     "name": "stdout",
     "output_type": "stream",
     "text": [
      "[]\n",
      "[]\n"
     ]
    }
   ],
   "source": [
    "S.schedule()"
   ]
  },
  {
   "cell_type": "code",
   "execution_count": null,
   "metadata": {},
   "outputs": [],
   "source": []
  },
  {
   "cell_type": "code",
   "execution_count": 27,
   "metadata": {},
   "outputs": [
    {
     "name": "stdout",
     "output_type": "stream",
     "text": [
      "0\n",
      "63\n",
      "False\n"
     ]
    }
   ],
   "source": [
    "while AL.inputFlag:\n",
    "    AL.cycle()\n",
    "print(AL.currentCondensedColumn)\n",
    "print(AL.currentNumColumns)\n",
    "print(AL.inputFlag)"
   ]
  },
  {
   "cell_type": "code",
   "execution_count": 8,
   "metadata": {},
   "outputs": [
    {
     "data": {
      "text/plain": [
       "False"
      ]
     },
     "execution_count": 8,
     "metadata": {},
     "output_type": "execute_result"
    }
   ],
   "source": [
    "AL.inputFlag"
   ]
  },
  {
   "cell_type": "code",
   "execution_count": 9,
   "metadata": {},
   "outputs": [],
   "source": [
    "#DL.lookaheadFIFO"
   ]
  },
  {
   "cell_type": "code",
   "execution_count": 10,
   "metadata": {},
   "outputs": [
    {
     "name": "stdout",
     "output_type": "stream",
     "text": [
      "True\n"
     ]
    }
   ],
   "source": [
    "print(MBP.inputFlag)"
   ]
  },
  {
   "cell_type": "code",
   "execution_count": 11,
   "metadata": {},
   "outputs": [
    {
     "name": "stdout",
     "output_type": "stream",
     "text": [
      "False\n"
     ]
    }
   ],
   "source": [
    "print(MT.merging)"
   ]
  },
  {
   "cell_type": "code",
   "execution_count": 28,
   "metadata": {},
   "outputs": [],
   "source": [
    "while not MT.merging:\n",
    "    MBP.cycle()\n",
    "    MPA.cycle()\n",
    "\n",
    "    MPA.loadInputs()\n"
   ]
  },
  {
   "cell_type": "code",
   "execution_count": 29,
   "metadata": {},
   "outputs": [
    {
     "name": "stdout",
     "output_type": "stream",
     "text": [
      "6472\n",
      "6465\n",
      "6223\n",
      "6207\n",
      "6327\n",
      "6421\n",
      "6355\n",
      "6444\n",
      "6287\n",
      "6181\n",
      "6152\n",
      "6192\n",
      "6357\n",
      "6323\n",
      "6309\n",
      "6396\n",
      "6220\n",
      "6200\n",
      "6158\n",
      "6123\n",
      "6159\n",
      "6084\n",
      "6249\n",
      "6258\n",
      "6317\n",
      "6374\n",
      "6399\n",
      "6447\n",
      "6501\n",
      "6463\n",
      "6490\n",
      "6356\n",
      "6315\n",
      "6259\n",
      "6285\n",
      "6216\n",
      "6214\n",
      "6304\n",
      "6332\n",
      "6286\n",
      "6340\n",
      "6239\n",
      "6246\n",
      "6292\n",
      "6272\n",
      "6335\n",
      "6319\n",
      "6321\n",
      "6357\n",
      "6394\n",
      "6327\n",
      "6382\n",
      "6324\n",
      "6169\n",
      "6120\n",
      "5982\n",
      "5596\n",
      "5417\n",
      "4886\n",
      "4691\n",
      "4380\n",
      "3635\n",
      "3283\n",
      "3926\n"
     ]
    }
   ],
   "source": [
    "for x in MT.inputFifos:\n",
    "    print(len(x[0]))"
   ]
  },
  {
   "cell_type": "code",
   "execution_count": 30,
   "metadata": {},
   "outputs": [
    {
     "name": "stdout",
     "output_type": "stream",
     "text": [
      "True\n",
      "[]\n",
      "[1]\n"
     ]
    }
   ],
   "source": [
    "print(MT.merging)\n",
    "while MT.merging:\n",
    "    MT.cycle()\n",
    "    #for x in MT.fifos:\n",
    "    #    print(x)\n",
    "    #for i,fifo in enumerate(MT.fifos):\n",
    "    #    print(i, fifo)\n",
    "    #print(MT.out)\n"
   ]
  },
  {
   "cell_type": "code",
   "execution_count": 15,
   "metadata": {},
   "outputs": [],
   "source": [
    "#print(MT.fifos)"
   ]
  },
  {
   "cell_type": "code",
   "execution_count": 16,
   "metadata": {},
   "outputs": [],
   "source": [
    "#len(MT.fifos[-1][0][0])"
   ]
  },
  {
   "cell_type": "code",
   "execution_count": 17,
   "metadata": {},
   "outputs": [],
   "source": [
    "#print(MBP.prefetchBufferHash)"
   ]
  },
  {
   "cell_type": "code",
   "execution_count": 18,
   "metadata": {},
   "outputs": [],
   "source": [
    "#print(MBP.furthestRowInPrefetcher)"
   ]
  },
  {
   "cell_type": "code",
   "execution_count": 19,
   "metadata": {},
   "outputs": [],
   "source": [
    "#print(MPA.Temp_Brow)\n",
    "#print(MPA.Temp_Bcols)\n",
    "#print(MPA.Temp_Avalue)"
   ]
  },
  {
   "cell_type": "code",
   "execution_count": 20,
   "metadata": {},
   "outputs": [],
   "source": [
    "#print(MT.inputFifos)\n",
    "#print(MT.inputFifos[0])\n",
    "#print(len(MT.inputFifos[0]))"
   ]
  },
  {
   "cell_type": "code",
   "execution_count": 31,
   "metadata": {},
   "outputs": [
    {
     "name": "stdout",
     "output_type": "stream",
     "text": [
      "3926\n",
      "10000\n"
     ]
    }
   ],
   "source": [
    "#print(len(MT.partialMatrices))\n",
    "for x in MT.partialMatrices:\n",
    "    print(len(x))"
   ]
  },
  {
   "cell_type": "code",
   "execution_count": 22,
   "metadata": {},
   "outputs": [],
   "source": [
    "#print(MT.partialMatrices)"
   ]
  },
  {
   "cell_type": "code",
   "execution_count": 23,
   "metadata": {},
   "outputs": [
    {
     "data": {
      "text/plain": [
       "[]"
      ]
     },
     "execution_count": 23,
     "metadata": {},
     "output_type": "execute_result"
    }
   ],
   "source": [
    "MT.out"
   ]
  },
  {
   "cell_type": "code",
   "execution_count": 33,
   "metadata": {},
   "outputs": [
    {
     "name": "stdout",
     "output_type": "stream",
     "text": [
      "[[186058 142576 199097 ... 223029 241214 213323]\n",
      " [224050 158783 214551 ... 195794 218845 199443]\n",
      " [192675 139708 234021 ... 350837 248405 191099]\n",
      " ...\n",
      " [274571 179134 285855 ... 292573 244195 216588]\n",
      " [319349 185347 298123 ... 314412 259935 261513]\n",
      " [240221 172354 289426 ... 183619 252485 191282]]\n",
      "[[186058 142576 199097 ... 223029 241214 213323]\n",
      " [224050 158783 214551 ... 195794 218845 199443]\n",
      " [192675 139708 234021 ... 350837 248405 191099]\n",
      " ...\n",
      " [274571 179134 285855 ... 292573 244195 216588]\n",
      " [319349 185347 298123 ... 314412 259935 261513]\n",
      " [240221 172354 289426 ... 183619 252485 191282]]\n",
      "[[ True  True  True ...  True  True  True]\n",
      " [ True  True  True ...  True  True  True]\n",
      " [ True  True  True ...  True  True  True]\n",
      " ...\n",
      " [ True  True  True ...  True  True  True]\n",
      " [ True  True  True ...  True  True  True]\n",
      " [ True  True  True ...  True  True  True]]\n",
      "True\n"
     ]
    }
   ],
   "source": [
    "data = []\n",
    "i = []\n",
    "j = []\n",
    "for x in MT.partialMatrices[-1]:\n",
    "    data.append(x[0])\n",
    "    i.append(x[1])\n",
    "    j.append(x[2])\n",
    "\n",
    "total = coo_matrix((data,(i,j)),shape=(100,100))\n",
    "print(total.toarray())\n",
    "print(np.matmul(i1.toarray(),i2.toarray()))\n",
    "print(np.equal(total.toarray(), np.matmul(i1.toarray(),i2.toarray())))\n",
    "print(np.allclose(total.toarray(),np.matmul(i1.toarray(),i2.toarray()),rtol=0.01))\n"
   ]
  },
  {
   "cell_type": "code",
   "execution_count": 25,
   "metadata": {},
   "outputs": [
    {
     "name": "stdout",
     "output_type": "stream",
     "text": [
      "[[    0     0     0 ...     0     0     0]\n",
      " [    0     0     0 ...     0     0     0]\n",
      " [    0     0     0 ...     0     0     0]\n",
      " ...\n",
      " [17881  8582 27874 ... 12833 17530  7776]\n",
      " [    0     0     0 ...     0     0     0]\n",
      " [    0     0     0 ...     0     0     0]]\n"
     ]
    }
   ],
   "source": [
    "print(total.toarray())"
   ]
  },
  {
   "cell_type": "code",
   "execution_count": 26,
   "metadata": {},
   "outputs": [
    {
     "name": "stdout",
     "output_type": "stream",
     "text": [
      "[[186058 142576 199097 ... 223029 241214 213323]\n",
      " [224050 158783 214551 ... 195794 218845 199443]\n",
      " [192675 139708 234021 ... 350837 248405 191099]\n",
      " ...\n",
      " [274571 179134 285855 ... 292573 244195 216588]\n",
      " [319349 185347 298123 ... 314412 259935 261513]\n",
      " [240221 172354 289426 ... 183619 252485 191282]]\n"
     ]
    }
   ],
   "source": [
    "print(np.matmul(i1.toarray(),i2.toarray()))"
   ]
  }
 ],
 "metadata": {
  "kernelspec": {
   "display_name": "Python 3",
   "language": "python",
   "name": "python3"
  },
  "language_info": {
   "codemirror_mode": {
    "name": "ipython",
    "version": 3
   },
   "file_extension": ".py",
   "mimetype": "text/x-python",
   "name": "python",
   "nbconvert_exporter": "python",
   "pygments_lexer": "ipython3",
   "version": "3.11.1"
  }
 },
 "nbformat": 4,
 "nbformat_minor": 2
}
