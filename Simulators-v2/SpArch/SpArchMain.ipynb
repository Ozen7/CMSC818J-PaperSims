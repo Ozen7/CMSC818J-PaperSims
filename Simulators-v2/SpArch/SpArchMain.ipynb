{
 "cells": [
  {
   "cell_type": "code",
   "execution_count": 1,
   "metadata": {},
   "outputs": [],
   "source": [
    "import numpy as np\n",
    "from scipy.sparse import csr_matrix, coo_matrix\n",
    "import time\n",
    "from threading import Thread\n",
    "from threading import Event\n",
    "from SpArchClasses import MatrixAFetcher\n",
    "from SpArchClasses import DistanceListBuilder\n",
    "from SpArchClasses import MatrixBPrefetcher\n",
    "from SpArchClasses import MultiplierArray\n",
    "from SpArchClasses import MergeTree\n",
    "from SpArchClasses import Scheduler\n",
    "from SpArchClasses import Memory"
   ]
  },
  {
   "cell_type": "code",
   "execution_count": 2,
   "metadata": {},
   "outputs": [],
   "source": [
    "LLB_TILE_SIZE = 300\n",
    "PE_TILE_SIZE = 150\n",
    "NUM_PES = 120\n",
    "I = 1000\n",
    "K = 1000\n",
    "J = 1000\n",
    "NUM_INTS = 1000\n",
    "\n",
    "gen = np.random.default_rng()\n",
    "data1 = gen.integers(1,10,NUM_INTS)\n",
    "row1 = gen.integers(0,I,NUM_INTS)\n",
    "col1 = gen.integers(0,K,NUM_INTS)\n",
    "\n",
    "data2 = gen.integers(1,10,NUM_INTS)\n",
    "row2 = gen.integers(0,K,NUM_INTS)\n",
    "col2 = gen.integers(0,J,NUM_INTS)\n",
    "i1 = csr_matrix(coo_matrix((data1, (row1, col1)), shape=(I, K)))\n",
    "i2 = csr_matrix(coo_matrix((data2, (row2, col2)), shape=(K, J)))"
   ]
  },
  {
   "cell_type": "code",
   "execution_count": 3,
   "metadata": {},
   "outputs": [
    {
     "name": "stdout",
     "output_type": "stream",
     "text": [
      "[[0 0 0 ... 0 0 0]\n",
      " [0 0 0 ... 0 0 0]\n",
      " [0 0 0 ... 0 0 0]\n",
      " ...\n",
      " [0 0 0 ... 0 0 0]\n",
      " [0 0 0 ... 0 0 0]\n",
      " [0 0 0 ... 0 0 0]]\n"
     ]
    }
   ],
   "source": [
    "print(i1.toarray())"
   ]
  },
  {
   "cell_type": "code",
   "execution_count": 4,
   "metadata": {},
   "outputs": [
    {
     "name": "stdout",
     "output_type": "stream",
     "text": [
      "[[0 0 0 ... 0 0 0]\n",
      " [0 0 0 ... 0 0 0]\n",
      " [0 0 0 ... 0 0 0]\n",
      " ...\n",
      " [0 0 0 ... 0 0 0]\n",
      " [0 0 0 ... 0 0 0]\n",
      " [0 0 0 ... 0 0 0]]\n"
     ]
    }
   ],
   "source": [
    "print(i2.toarray())"
   ]
  },
  {
   "cell_type": "code",
   "execution_count": 5,
   "metadata": {},
   "outputs": [],
   "source": [
    "NUM_CHANNELS = 16\n",
    "BANDWIDTH_PER_CHANNEL = 8\n",
    "NUM_INPUT_FIFOS = 64\n",
    "MERGE_SIZE = 1\n",
    "\n",
    "AL = MatrixAFetcher(i1)\n",
    "DL = DistanceListBuilder()\n",
    "MBP = MatrixBPrefetcher(i2)\n",
    "MPA = MultiplierArray()\n",
    "MT = MergeTree(MERGE_SIZE)\n",
    "M = Memory(NUM_CHANNELS, BANDWIDTH_PER_CHANNEL)\n",
    "S = Scheduler(AL,MT,DL,MBP,MPA,NUM_INPUT_FIFOS)\n",
    "\n",
    "AL.setDLB(DL)\n",
    "AL.setMemory(M)\n",
    "\n",
    "DL.setMBP(MBP)\n",
    "DL.setMultiplier(MPA)\n",
    "\n",
    "MBP.setMultiplier(MPA)\n",
    "MBP.setDistanceListBuilder(DL)\n",
    "MBP.setMemory(M)\n",
    "\n",
    "MPA.setMergeTree(MT)\n",
    "MPA.setScheduler(S)\n",
    "\n",
    "MT.setScheduler(S)\n",
    "\n",
    "endFlag = True\n",
    "\n"
   ]
  },
  {
   "cell_type": "code",
   "execution_count": 6,
   "metadata": {},
   "outputs": [
    {
     "name": "stdout",
     "output_type": "stream",
     "text": [
      "1\n",
      "1\n",
      "5523\n"
     ]
    }
   ],
   "source": [
    "\n",
    "ALEvent = Event()\n",
    "ALEvent.set()\n",
    "Thread(target=AL.running,args=[ALEvent]).start()\n",
    "\n",
    "MBPEvent = Event()\n",
    "MBPEvent.set()\n",
    "Thread(target=MBP.running,args=[MBPEvent]).start()\n",
    "\n",
    "MPAEvent = Event()\n",
    "MPAEvent.set()\n",
    "Thread(target=MPA.running,args=[MPAEvent]).start()\n",
    "\n",
    "MTEvent = Event()\n",
    "MTEvent.set()\n",
    "Thread(target=MT.running,args=[MTEvent]).start()\n",
    "\n",
    "count = 0\n",
    "while endFlag:\n",
    "    count += 1\n",
    "    ALEvent.clear()\n",
    "    MBPEvent.clear()\n",
    "    MPAEvent.clear()\n",
    "    MTEvent.clear()\n",
    "\n",
    "    if not AL.endFlag:\n",
    "        ALEvent.wait()\n",
    "    if not MBP.endFlag:\n",
    "        MBPEvent.wait()\n",
    "    if not MPA.endFlag:\n",
    "        MPAEvent.wait()\n",
    "    if not MT.endFlag:\n",
    "        MTEvent.wait()\n",
    "    \n",
    "    endFlag = not (AL.endFlag and MBP.endFlag and MPA.endFlag and MT.endFlag)\n",
    "    \n",
    "    if not MPA.endFlag:\n",
    "        MPA.loadInputs()\n",
    "    M.cycle()\n",
    "\n",
    "print(count)"
   ]
  },
  {
   "cell_type": "code",
   "execution_count": 7,
   "metadata": {},
   "outputs": [
    {
     "name": "stdout",
     "output_type": "stream",
     "text": [
      "[[0 0 0 ... 0 0 0]\n",
      " [0 0 0 ... 0 0 0]\n",
      " [0 0 0 ... 0 0 0]\n",
      " ...\n",
      " [0 0 0 ... 0 0 0]\n",
      " [0 0 0 ... 0 0 0]\n",
      " [0 0 0 ... 0 0 0]]\n",
      "[[0 0 0 ... 0 0 0]\n",
      " [0 0 0 ... 0 0 0]\n",
      " [0 0 0 ... 0 0 0]\n",
      " ...\n",
      " [0 0 0 ... 0 0 0]\n",
      " [0 0 0 ... 0 0 0]\n",
      " [0 0 0 ... 0 0 0]]\n",
      "[[ True  True  True ...  True  True  True]\n",
      " [ True  True  True ...  True  True  True]\n",
      " [ True  True  True ...  True  True  True]\n",
      " ...\n",
      " [ True  True  True ...  True  True  True]\n",
      " [ True  True  True ...  True  True  True]\n",
      " [ True  True  True ...  True  True  True]]\n",
      "True\n"
     ]
    }
   ],
   "source": [
    "data = []\n",
    "i = []\n",
    "j = []\n",
    "for x in MT.partialMatrices[-1]:\n",
    "    data.append(x[0])\n",
    "    i.append(x[1])\n",
    "    j.append(x[2])\n",
    "\n",
    "total = coo_matrix((data,(i,j)),shape=(I,K))\n",
    "print(total.toarray())\n",
    "print(np.matmul(i1.toarray(),i2.toarray()))\n",
    "print(np.equal(total.toarray(), np.matmul(i1.toarray(),i2.toarray())))\n",
    "print(np.allclose(total.toarray(),np.matmul(i1.toarray(),i2.toarray()),rtol=0.01))\n"
   ]
  }
 ],
 "metadata": {
  "kernelspec": {
   "display_name": "Python 3",
   "language": "python",
   "name": "python3"
  },
  "language_info": {
   "codemirror_mode": {
    "name": "ipython",
    "version": 3
   },
   "file_extension": ".py",
   "mimetype": "text/x-python",
   "name": "python",
   "nbconvert_exporter": "python",
   "pygments_lexer": "ipython3",
   "version": "3.11.1"
  }
 },
 "nbformat": 4,
 "nbformat_minor": 2
}
