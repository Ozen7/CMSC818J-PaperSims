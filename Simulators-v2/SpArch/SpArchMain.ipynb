{
 "cells": [
  {
   "cell_type": "code",
   "execution_count": 64,
   "metadata": {},
   "outputs": [],
   "source": [
    "import numpy as np\n",
    "from scipy.sparse import csr_matrix, coo_matrix\n",
    "import time\n",
    "from threading import Thread\n",
    "from threading import Event\n",
    "from SpArchClasses import MatrixAFetcher\n",
    "from SpArchClasses import DistanceListBuilder\n",
    "from SpArchClasses import MatrixBPrefetcher\n",
    "from SpArchClasses import MultiplierArray\n",
    "from SpArchClasses import MergeTree\n",
    "from SpArchClasses import Scheduler\n",
    "from SpArchClasses import Memory\n",
    "from SpArchClasses import MatrixBCache"
   ]
  },
  {
   "cell_type": "code",
   "execution_count": 65,
   "metadata": {},
   "outputs": [],
   "source": [
    "I = 10\n",
    "K = 10\n",
    "J = 10\n",
    "NUM_INTS = 10\n",
    "\n",
    "gen = np.random.default_rng()\n",
    "data1 = gen.integers(1,10,NUM_INTS)\n",
    "row1 = gen.integers(0,I,NUM_INTS)\n",
    "col1 = gen.integers(0,K,NUM_INTS)\n",
    "\n",
    "data2 = gen.integers(1,10,NUM_INTS)\n",
    "row2 = gen.integers(0,K,NUM_INTS)\n",
    "col2 = gen.integers(0,J,NUM_INTS)\n",
    "i1 = csr_matrix(coo_matrix((data1, (row1, col1)), shape=(I, K)))\n",
    "i2 = csr_matrix(coo_matrix((data2, (row2, col2)), shape=(K, J)))"
   ]
  },
  {
   "cell_type": "code",
   "execution_count": 66,
   "metadata": {},
   "outputs": [
    {
     "name": "stdout",
     "output_type": "stream",
     "text": [
      "[[0 0 3 7 0 0 0 0 0 0]\n",
      " [0 0 0 4 0 0 0 0 0 0]\n",
      " [0 0 0 0 0 0 0 2 0 0]\n",
      " [0 0 0 2 0 0 0 0 0 0]\n",
      " [9 0 0 0 0 0 0 0 0 0]\n",
      " [0 0 0 6 0 0 0 0 0 0]\n",
      " [0 0 0 0 0 0 8 0 0 0]\n",
      " [0 0 0 0 0 0 0 0 0 0]\n",
      " [0 0 0 0 0 0 6 0 9 0]\n",
      " [0 0 0 0 0 0 0 0 0 0]]\n"
     ]
    }
   ],
   "source": [
    "print(i1.toarray())"
   ]
  },
  {
   "cell_type": "code",
   "execution_count": 67,
   "metadata": {},
   "outputs": [
    {
     "name": "stdout",
     "output_type": "stream",
     "text": [
      "[[0 0 2 0 0 0 6 0 0 0]\n",
      " [0 0 8 0 0 0 0 0 0 0]\n",
      " [0 7 0 0 0 0 0 0 0 9]\n",
      " [0 0 0 0 0 0 0 0 0 0]\n",
      " [0 0 0 0 0 0 0 0 0 0]\n",
      " [0 9 0 0 0 0 0 0 0 6]\n",
      " [0 0 6 0 0 0 0 0 0 2]\n",
      " [0 0 6 0 0 0 0 0 0 0]\n",
      " [0 0 0 0 0 0 0 0 0 0]\n",
      " [0 0 0 0 0 0 0 0 0 0]]\n"
     ]
    }
   ],
   "source": [
    "print(i2.toarray())"
   ]
  },
  {
   "cell_type": "code",
   "execution_count": 68,
   "metadata": {},
   "outputs": [],
   "source": [
    "NUM_CHANNELS = 16\n",
    "BANDWIDTH_PER_CHANNEL = 8\n",
    "NUM_INPUT_FIFOS = 64\n",
    "MERGE_SIZE = 16\n",
    "MODE = \"PrefetchCache\"\n",
    "\n",
    "AL = MatrixAFetcher(i1)\n",
    "DL = DistanceListBuilder()\n",
    "if MODE == \"Cache\":\n",
    "    MBP = MatrixBCache(False,i2)\n",
    "elif MODE == \"PrefetchCache\":\n",
    "    MBP = MatrixBCache(True,i2)\n",
    "else:\n",
    "    MBP = MatrixBPrefetcher(i2)\n",
    "MPA = MultiplierArray()\n",
    "MT = MergeTree(MERGE_SIZE)\n",
    "M = Memory(NUM_CHANNELS, BANDWIDTH_PER_CHANNEL)\n",
    "S = Scheduler(AL,MT,DL,MBP,MPA,NUM_INPUT_FIFOS)\n",
    "\n",
    "AL.setDLB(DL)\n",
    "AL.setMemory(M)\n",
    "\n",
    "DL.setMBP(MBP)\n",
    "DL.setMultiplier(MPA)\n",
    "\n",
    "MBP.setMultiplier(MPA)\n",
    "MBP.setDistanceListBuilder(DL)\n",
    "MBP.setMemory(M)\n",
    "\n",
    "MPA.setMergeTree(MT)\n",
    "MPA.setScheduler(S)\n",
    "\n",
    "MT.setScheduler(S)\n",
    "\n",
    "endFlag = True\n",
    "\n"
   ]
  },
  {
   "cell_type": "code",
   "execution_count": 69,
   "metadata": {},
   "outputs": [
    {
     "name": "stdout",
     "output_type": "stream",
     "text": [
      "1\n",
      "1\n",
      "Cycle Count:  283\n",
      "Average Bandwidth Utilization (%): 8.424028268551236, Bandwidth Utilization When Memory Is In Use (%): 29.8\n",
      "Memory Use \n",
      "Matrix A Fetcher Memory Use (bytes):  80\n",
      "Matrix B Prefetcher Memory Use: (bytes) 2304\n",
      "Total Memory Use: (bytes) 2384\n",
      "Hardware Utilization \n",
      "Number of Rounds of Merging:  1\n",
      "Matrix B Prefetcher Memory Wasted Cycles %:  0.4982 , MBP Wasted Cycles:  141\n",
      "Matrix B Prefetcher Hardware Utilization %:  0.5406 , MBP Wasted Cycles:  130\n",
      "Multiplier Array Hardware Utilization % 0.5583 , MPA Wasted Cycles:  125\n",
      "MergeTree Cycles Idle (No merging) % 0.0035 , MergeTree Cycles Idle:  1\n",
      "MergeTree Wasted Cycles (No Partial Loading or Merging) % 0.5512 , MergeTree Cycles Wasted:  156\n",
      "MergeTree Average FIFO Uptime (%) 0.34330000000000005\n"
     ]
    }
   ],
   "source": [
    "\n",
    "ALEvent = Event()\n",
    "ALEvent.set()\n",
    "Thread(target=AL.running,args=[ALEvent]).start()\n",
    "\n",
    "MBPEvent = Event()\n",
    "MBPEvent.set()\n",
    "Thread(target=MBP.running,args=[MBPEvent]).start()\n",
    "\n",
    "MPAEvent = Event()\n",
    "MPAEvent.set()\n",
    "Thread(target=MPA.running,args=[MPAEvent]).start()\n",
    "\n",
    "MTEvent = Event()\n",
    "MTEvent.set()\n",
    "Thread(target=MT.running,args=[MTEvent]).start()\n",
    "\n",
    "count = 0\n",
    "while endFlag:\n",
    "    count += 1\n",
    "    ALEvent.clear()\n",
    "    MBPEvent.clear()\n",
    "    MPAEvent.clear()\n",
    "    MTEvent.clear()\n",
    "\n",
    "    if not AL.endFlag:\n",
    "        ALEvent.wait()\n",
    "    if not MBP.endFlag:\n",
    "        MBPEvent.wait()\n",
    "    if not MPA.endFlag:\n",
    "        MPAEvent.wait()\n",
    "    if not MT.endFlag:\n",
    "        MTEvent.wait()\n",
    "    \n",
    "    endFlag = not (AL.endFlag and MBP.endFlag and MPA.endFlag and MT.endFlag)\n",
    "    \n",
    "    if not MPA.endFlag:\n",
    "        MPA.loadInputs()\n",
    "    M.cycle()\n",
    "\n",
    "# Cycle output\n",
    "print(\"Cycle Count: \", count)\n",
    "\n",
    "# Memory Bandwidth Utilization:\n",
    "print(\"Average Bandwidth Utilization (%): \" + str(M.TotalMemoryPulled/count) + \", Bandwidth Utilization When Memory Is In Use (%): \" + str(M.TotalMemoryPulled/M.NumCyclesInUse))\n",
    "\n",
    "# Memory Use\n",
    "print(\"Memory Use \")\n",
    "print(\"Matrix A Fetcher Memory Use (bytes): \", AL.memoryUse)\n",
    "print(\"Matrix B Prefetcher Memory Use: (bytes)\", MBP.memoryAccessBytes)\n",
    "print(\"Total Memory Use: (bytes)\", M.TotalMemoryPulled)\n",
    "\n",
    "# Hardware Utilization\n",
    "print(\"Hardware Utilization \")\n",
    "print(\"Number of Rounds of Merging: \", S.rounds-1)\n",
    "# We don't need any numbers for A matrix Fetcher. \n",
    "print(\"Matrix B Prefetcher Memory Wasted Cycles %: \", round(MBP.memoryWastedCycles/count,4), \", MBP Wasted Cycles: \", MBP.memoryWastedCycles)\n",
    "print(\"Matrix B Prefetcher Hardware Utilization %: \", (1-round(MBP.wastedCycles/count,4)), \", MBP Wasted Cycles: \", MBP.wastedCycles)\n",
    "print(\"Multiplier Array Hardware Utilization %\", (1-round(MPA.wastedCycles/count,4)), \", MPA Wasted Cycles: \", MPA.wastedCycles)\n",
    "print(\"MergeTree Cycles Idle (No merging) %\", (round(MT.idleCycles/count,4)) ,\", MergeTree Cycles Idle: \", MT.idleCycles)\n",
    "print(\"MergeTree Wasted Cycles (No Partial Loading or Merging) %\", (round(MT.wastedCycles/count,4)) ,\", MergeTree Cycles Wasted: \", MT.wastedCycles)\n",
    "print(\"MergeTree Average FIFO Uptime (%)\", (1-round(MT.totalEmptyFifos/MT.totalMergeCycles,4)))"
   ]
  },
  {
   "cell_type": "code",
   "execution_count": 70,
   "metadata": {},
   "outputs": [
    {
     "name": "stdout",
     "output_type": "stream",
     "text": [
      "[[ 0 21  0  0  0  0  0  0  0 27]\n",
      " [ 0  0  0  0  0  0  0  0  0  0]\n",
      " [ 0  0 12  0  0  0  0  0  0  0]\n",
      " [ 0  0  0  0  0  0  0  0  0  0]\n",
      " [ 0  0 18  0  0  0 54  0  0  0]\n",
      " [ 0  0  0  0  0  0  0  0  0  0]\n",
      " [ 0  0 48  0  0  0  0  0  0 16]\n",
      " [ 0  0  0  0  0  0  0  0  0  0]\n",
      " [ 0  0 36  0  0  0  0  0  0 12]\n",
      " [ 0  0  0  0  0  0  0  0  0  0]]\n",
      "[[ 0 21  0  0  0  0  0  0  0 27]\n",
      " [ 0  0  0  0  0  0  0  0  0  0]\n",
      " [ 0  0 12  0  0  0  0  0  0  0]\n",
      " [ 0  0  0  0  0  0  0  0  0  0]\n",
      " [ 0  0 18  0  0  0 54  0  0  0]\n",
      " [ 0  0  0  0  0  0  0  0  0  0]\n",
      " [ 0  0 48  0  0  0  0  0  0 16]\n",
      " [ 0  0  0  0  0  0  0  0  0  0]\n",
      " [ 0  0 36  0  0  0  0  0  0 12]\n",
      " [ 0  0  0  0  0  0  0  0  0  0]]\n",
      "[[ True  True  True  True  True  True  True  True  True  True]\n",
      " [ True  True  True  True  True  True  True  True  True  True]\n",
      " [ True  True  True  True  True  True  True  True  True  True]\n",
      " [ True  True  True  True  True  True  True  True  True  True]\n",
      " [ True  True  True  True  True  True  True  True  True  True]\n",
      " [ True  True  True  True  True  True  True  True  True  True]\n",
      " [ True  True  True  True  True  True  True  True  True  True]\n",
      " [ True  True  True  True  True  True  True  True  True  True]\n",
      " [ True  True  True  True  True  True  True  True  True  True]\n",
      " [ True  True  True  True  True  True  True  True  True  True]]\n",
      "True\n"
     ]
    }
   ],
   "source": [
    "data = []\n",
    "i = []\n",
    "j = []\n",
    "for x in MT.partialMatrices[-1]:\n",
    "    data.append(x[0])\n",
    "    i.append(x[1])\n",
    "    j.append(x[2])\n",
    "\n",
    "total = coo_matrix((data,(i,j)),shape=(I,K))\n",
    "print(total.toarray())\n",
    "print(np.matmul(i1.toarray(),i2.toarray()))\n",
    "print(np.equal(total.toarray(), np.matmul(i1.toarray(),i2.toarray())))\n",
    "print(np.allclose(total.toarray(),np.matmul(i1.toarray(),i2.toarray()),rtol=0.01))\n"
   ]
  }
 ],
 "metadata": {
  "kernelspec": {
   "display_name": "Python 3",
   "language": "python",
   "name": "python3"
  },
  "language_info": {
   "codemirror_mode": {
    "name": "ipython",
    "version": 3
   },
   "file_extension": ".py",
   "mimetype": "text/x-python",
   "name": "python",
   "nbconvert_exporter": "python",
   "pygments_lexer": "ipython3",
   "version": "3.11.1"
  }
 },
 "nbformat": 4,
 "nbformat_minor": 2
}
