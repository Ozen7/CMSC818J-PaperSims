{
 "cells": [
  {
   "cell_type": "code",
   "execution_count": 1,
   "metadata": {},
   "outputs": [],
   "source": [
    "import numpy as np\n",
    "from scipy.sparse import csr_matrix, coo_matrix\n",
    "import time\n",
    "from threading import Thread\n",
    "from threading import Event\n",
    "from GammaClasses import PE\n",
    "from GammaClasses import Scheduler\n",
    "from GammaClasses import FiberCache"
   ]
  },
  {
   "cell_type": "code",
   "execution_count": 2,
   "metadata": {},
   "outputs": [
    {
     "name": "stdout",
     "output_type": "stream",
     "text": [
      "[[14 12  6  8  8  5  8  1  0  7]\n",
      " [ 0  0  9  0 14 24  9  7  0  0]\n",
      " [ 0  0  9  8  9  3  7  0  8  8]\n",
      " [ 0 25  0 21  3 16  3  2 14  0]\n",
      " [ 3  0 12 21  7  7  9  4  7  1]\n",
      " [ 3  0  5  0  0  3  0  0  0  0]\n",
      " [13  0  0  0  2  0 13 11  0  4]\n",
      " [11 16  0  0  0  0  6  0  3  0]\n",
      " [ 0  0  0  5 18  3  7  4  4  0]\n",
      " [ 2  3  0 12  8  5 17  9  5  0]]\n",
      "[[ 0  1  0  0  5  0  5 11  3  0]\n",
      " [ 6  8  0  3  6  0  0  7  2  0]\n",
      " [ 8  7 12  0  8 16  5  0  6  0]\n",
      " [ 0  1 24  0  8  5  5  0  1  0]\n",
      " [ 4 14  2 15 23 15  3  7 13  6]\n",
      " [ 0  0  0  5  4  9  8 13  4 19]\n",
      " [ 0  0  3  5  0  1  1  6  0  7]\n",
      " [ 0  6  0  3  7 11  0  4  0  9]\n",
      " [ 7  0  0  7 10  1  0 19  8  8]\n",
      " [11  6  0  8  9 14  0  9  0  5]]\n"
     ]
    }
   ],
   "source": [
    "I = 10\n",
    "K = 10\n",
    "J = 10\n",
    "NUM_INTS = 1000\n",
    "NUM_PES = 32\n",
    "RADIX = 3\n",
    "\n",
    "gen = np.random.default_rng()\n",
    "data1 = gen.integers(1,10,NUM_INTS)\n",
    "row1 = gen.integers(0,I,NUM_INTS)\n",
    "col1 = gen.integers(0,K,NUM_INTS)\n",
    "\n",
    "data2 = gen.integers(1,10,NUM_INTS)\n",
    "row2 = gen.integers(0,K,NUM_INTS)\n",
    "col2 = gen.integers(0,J,NUM_INTS)\n",
    "i1 = csr_matrix(coo_matrix((data1, (row1, col1)), shape=(I, K)))\n",
    "i2 = csr_matrix(coo_matrix((data2, (row2, col2)), shape=(K, J)))\n",
    "print(i1.toarray())\n",
    "print(i2.toarray())"
   ]
  },
  {
   "cell_type": "code",
   "execution_count": 3,
   "metadata": {},
   "outputs": [
    {
     "name": "stdout",
     "output_type": "stream",
     "text": [
      "0 0 9\n",
      "1 9 14\n",
      "2 14 21\n",
      "3 21 28\n",
      "4 28 37\n",
      "5 37 40\n",
      "6 40 45\n",
      "7 45 49\n",
      "8 49 55\n",
      "9 55 63\n",
      "(True, False, 0, 1, [2, 3, 4], [1, 1, 1])\n",
      "(False, True, 0, 2, array([0, 1, 2]), array([14, 12,  6], dtype=int64))\n",
      "(False, True, 0, 3, array([3, 4, 5]), array([8, 8, 5], dtype=int64))\n",
      "(False, True, 0, 4, array([6, 7, 9]), array([8, 1, 7], dtype=int64))\n",
      "(True, False, 1, 5, [6, 7, 8], [1, 1, 1])\n",
      "(False, True, 1, 6, array([2, 4, 5]), array([ 9, 14, 24], dtype=int64))\n",
      "(False, True, 1, 7, array([6]), array([9], dtype=int64))\n",
      "(False, True, 1, 8, array([7]), array([7], dtype=int64))\n",
      "(True, False, 2, 9, [10, 11, 12], [1, 1, 1])\n",
      "(False, True, 2, 10, array([2, 3, 4]), array([9, 8, 9], dtype=int64))\n",
      "(False, True, 2, 11, array([5, 6, 8]), array([3, 7, 8], dtype=int64))\n",
      "(False, True, 2, 12, array([9]), array([8], dtype=int64))\n",
      "(True, False, 3, 13, [14, 15, 16], [1, 1, 1])\n",
      "(False, True, 3, 14, array([1, 3, 4]), array([25, 21,  3], dtype=int64))\n",
      "(False, True, 3, 15, array([5, 6, 7]), array([16,  3,  2], dtype=int64))\n",
      "(False, True, 3, 16, array([8]), array([14], dtype=int64))\n",
      "(True, False, 4, 17, [18, 19, 20], [1, 1, 1])\n",
      "(False, True, 4, 18, array([0, 2, 3]), array([ 3, 12, 21], dtype=int64))\n",
      "(False, True, 4, 19, array([4, 5, 6]), array([7, 7, 9], dtype=int64))\n",
      "(False, True, 4, 20, array([7, 8, 9]), array([4, 7, 1], dtype=int64))\n",
      "(True, True, 5, 21, array([0, 2, 5]), array([3, 5, 3], dtype=int64))\n",
      "(True, False, 6, 22, [23, 24, 25], [1, 1, 1])\n",
      "(False, True, 6, 23, array([0, 4, 6]), array([13,  2, 13], dtype=int64))\n",
      "(False, True, 6, 24, array([7]), array([11], dtype=int64))\n",
      "(False, True, 6, 25, array([9]), array([4], dtype=int64))\n",
      "(True, False, 7, 26, [27, 28, 29], [1, 1, 1])\n",
      "(False, True, 7, 27, array([0, 1]), array([11, 16], dtype=int64))\n",
      "(False, True, 7, 28, array([6]), array([6], dtype=int64))\n",
      "(False, True, 7, 29, array([8]), array([3], dtype=int64))\n",
      "(True, False, 8, 30, [31, 32, 33], [1, 1, 1])\n",
      "(False, True, 8, 31, array([3, 4]), array([ 5, 18], dtype=int64))\n",
      "(False, True, 8, 32, array([5, 6, 7]), array([3, 7, 4], dtype=int64))\n",
      "(False, True, 8, 33, array([8]), array([4], dtype=int64))\n",
      "(True, False, 9, 34, [35, 36, 37], [1, 1, 1])\n",
      "(False, True, 9, 35, array([0, 1, 3]), array([ 2,  3, 12], dtype=int64))\n",
      "(False, True, 9, 36, array([4, 5, 6]), array([ 8,  5, 17], dtype=int64))\n",
      "(False, True, 9, 37, array([7]), array([9], dtype=int64))\n"
     ]
    }
   ],
   "source": [
    "PEArray = []\n",
    "for x in range(NUM_PES):\n",
    "    PEArray.append(PE(RADIX))\n",
    "\n",
    "S = Scheduler(PEArray,i1,RADIX)\n",
    "\n",
    "for x in S.jobs:\n",
    "    print(x)\n",
    "\n",
    "FC = FiberCache()\n",
    "for x in range(NUM_PES):\n",
    "    PEArray[x].connect(S,FC)\n"
   ]
  },
  {
   "cell_type": "code",
   "execution_count": 4,
   "metadata": {},
   "outputs": [
    {
     "name": "stdout",
     "output_type": "stream",
     "text": [
      "(True, False, 0, 1, [2, 3, 4], [1, 1, 1])\n",
      "(False, True, 0, 2, array([0, 1, 2]), array([14, 12,  6], dtype=int64))\n",
      "(False, True, 0, 3, array([3, 4, 5]), array([8, 8, 5], dtype=int64))\n",
      "(False, True, 0, 4, array([6, 7, 9]), array([8, 1, 7], dtype=int64))\n",
      "(True, False, 1, 5, [6, 7, 8], [1, 1, 1])\n",
      "(False, True, 1, 6, array([2, 4, 5]), array([ 9, 14, 24], dtype=int64))\n",
      "(False, True, 1, 7, array([6]), array([9], dtype=int64))\n",
      "(False, True, 1, 8, array([7]), array([7], dtype=int64))\n",
      "(True, False, 2, 9, [10, 11, 12], [1, 1, 1])\n",
      "(False, True, 2, 10, array([2, 3, 4]), array([9, 8, 9], dtype=int64))\n",
      "(False, True, 2, 11, array([5, 6, 8]), array([3, 7, 8], dtype=int64))\n",
      "(False, True, 2, 12, array([9]), array([8], dtype=int64))\n",
      "(True, False, 3, 13, [14, 15, 16], [1, 1, 1])\n",
      "(False, True, 3, 14, array([1, 3, 4]), array([25, 21,  3], dtype=int64))\n",
      "(False, True, 3, 15, array([5, 6, 7]), array([16,  3,  2], dtype=int64))\n",
      "(False, True, 3, 16, array([8]), array([14], dtype=int64))\n",
      "(True, False, 4, 17, [18, 19, 20], [1, 1, 1])\n",
      "(False, True, 4, 18, array([0, 2, 3]), array([ 3, 12, 21], dtype=int64))\n",
      "(False, True, 4, 19, array([4, 5, 6]), array([7, 7, 9], dtype=int64))\n",
      "(False, True, 4, 20, array([7, 8, 9]), array([4, 7, 1], dtype=int64))\n",
      "(True, True, 5, 21, array([0, 2, 5]), array([3, 5, 3], dtype=int64))\n",
      "(True, False, 6, 22, [23, 24, 25], [1, 1, 1])\n",
      "(False, True, 6, 23, array([0, 4, 6]), array([13,  2, 13], dtype=int64))\n",
      "(False, True, 6, 24, array([7]), array([11], dtype=int64))\n",
      "(False, True, 6, 25, array([9]), array([4], dtype=int64))\n",
      "(True, False, 7, 26, [27, 28, 29], [1, 1, 1])\n",
      "(False, True, 7, 27, array([0, 1]), array([11, 16], dtype=int64))\n",
      "(False, True, 7, 28, array([6]), array([6], dtype=int64))\n",
      "(False, True, 7, 29, array([8]), array([3], dtype=int64))\n",
      "(True, False, 8, 30, [31, 32, 33], [1, 1, 1])\n",
      "(False, True, 8, 31, array([3, 4]), array([ 5, 18], dtype=int64))\n",
      "(False, True, 8, 32, array([5, 6, 7]), array([3, 7, 4], dtype=int64))\n"
     ]
    }
   ],
   "source": [
    "for x in range(NUM_PES):\n",
    "    print(PEArray[x].nextFiberSet)"
   ]
  }
 ],
 "metadata": {
  "kernelspec": {
   "display_name": "Python 3",
   "language": "python",
   "name": "python3"
  },
  "language_info": {
   "codemirror_mode": {
    "name": "ipython",
    "version": 3
   },
   "file_extension": ".py",
   "mimetype": "text/x-python",
   "name": "python",
   "nbconvert_exporter": "python",
   "pygments_lexer": "ipython3",
   "version": "3.11.1"
  }
 },
 "nbformat": 4,
 "nbformat_minor": 2
}
