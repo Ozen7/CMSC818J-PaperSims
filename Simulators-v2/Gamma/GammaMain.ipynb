{
 "cells": [
  {
   "cell_type": "code",
   "execution_count": null,
   "metadata": {},
   "outputs": [],
   "source": [
    "import numpy as np\n",
    "from scipy.sparse import csr_matrix, coo_matrix\n",
    "import time\n",
    "from threading import Thread\n",
    "from threading import Event\n",
    "from GammaClasses import PE\n",
    "from GammaClasses import Scheduler\n",
    "from GammaClasses import FiberCache\n",
    "from GammaClasses import Memory"
   ]
  },
  {
   "cell_type": "code",
   "execution_count": null,
   "metadata": {},
   "outputs": [],
   "source": [
    "I = 1000\n",
    "K = 1000\n",
    "J = 1000\n",
    "NUM_INTS = 1000\n",
    "NUM_PES = 32\n",
    "RADIX = 64\n",
    "\n",
    "gen = np.random.default_rng()\n",
    "data1 = gen.integers(1,10,NUM_INTS)\n",
    "row1 = gen.integers(0,I,NUM_INTS)\n",
    "col1 = gen.integers(0,K,NUM_INTS)\n",
    "\n",
    "data2 = gen.integers(1,10,NUM_INTS)\n",
    "row2 = gen.integers(0,K,NUM_INTS)\n",
    "col2 = gen.integers(0,J,NUM_INTS)\n",
    "i1 = csr_matrix(coo_matrix((data1, (row1, col1)), shape=(I, K)))\n",
    "i2 = csr_matrix(coo_matrix((data2, (row2, col2)), shape=(K, J)))\n",
    "print(i1.toarray())\n",
    "print(i2.toarray())"
   ]
  },
  {
   "cell_type": "code",
   "execution_count": null,
   "metadata": {},
   "outputs": [],
   "source": [
    "FC = FiberCache(3000000,i2)\n",
    "M = Memory(16,8)\n",
    "PEArray = []\n",
    "for x in range(NUM_PES):\n",
    "    PEArray.append(PE(RADIX))\n",
    "\n",
    "S = Scheduler(PEArray,i1,RADIX)\n",
    "\n",
    "for x in S.jobs:\n",
    "    print(x)\n",
    "\n",
    "FC.setMemory(M)\n",
    "for x in range(NUM_PES):\n",
    "    PEArray[x].connect(S,FC)\n"
   ]
  },
  {
   "cell_type": "code",
   "execution_count": null,
   "metadata": {},
   "outputs": [],
   "source": [
    "endFlag = False\n",
    "while not endFlag:\n",
    "    endFlag = True\n",
    "    for x in range(NUM_PES):\n",
    "        endFlag = endFlag and PEArray[x].endFlag\n",
    "        PEArray[x].cycle()\n",
    "    FC.cycle()\n",
    "    M.cycle()"
   ]
  },
  {
   "cell_type": "code",
   "execution_count": null,
   "metadata": {},
   "outputs": [],
   "source": [
    "#for x in range(NUM_PES):\n",
    "#    \n",
    "#    if not PEArray[x].endFlag:\n",
    "#        print(PEArray[x].currentFiberSet)\n",
    "#        print(PEArray[x].dataNotInCacheFlag)\n",
    "#print(M.channelCurrent)\n",
    "#print(FC.partialFiberLockSet)\n",
    "#print(FC.remainingSize)\n",
    "#print(FC.fetchSet)\n",
    "#print(FC.fetchQueue)"
   ]
  },
  {
   "cell_type": "code",
   "execution_count": null,
   "metadata": {},
   "outputs": [],
   "source": [
    "print(FC.outputMatrixCoords)\n",
    "print(FC.outputMatrixData)\n",
    "print(FC.outputMatrixIndptrs)\n",
    "i = []\n",
    "point = 0\n",
    "for x in FC.outputMatrixIndptrs:\n",
    "    i += [x[0]] * x[1]\n",
    "print(i)\n",
    "\n",
    "out = csr_matrix((FC.outputMatrixData, (i, FC.outputMatrixCoords)),shape=(I,J))"
   ]
  },
  {
   "cell_type": "code",
   "execution_count": null,
   "metadata": {},
   "outputs": [],
   "source": [
    "print(np.matmul(i1.toarray(),i2.toarray()))\n",
    "print(out.toarray())\n",
    "print(np.equal(out.toarray(), np.matmul(i1.toarray(),i2.toarray())))\n",
    "print(np.allclose(out.toarray(),np.matmul(i1.toarray(),i2.toarray()),rtol=0.01))\n",
    "print(np.sum(out.toarray()))\n",
    "print(np.sum(np.matmul(i1.toarray(),i2.toarray())))"
   ]
  }
 ],
 "metadata": {
  "kernelspec": {
   "display_name": "Python 3",
   "language": "python",
   "name": "python3"
  },
  "language_info": {
   "codemirror_mode": {
    "name": "ipython",
    "version": 3
   },
   "file_extension": ".py",
   "mimetype": "text/x-python",
   "name": "python",
   "nbconvert_exporter": "python",
   "pygments_lexer": "ipython3",
   "version": "3.11.1"
  }
 },
 "nbformat": 4,
 "nbformat_minor": 2
}
